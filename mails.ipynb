{
 "cells": [
  {
   "cell_type": "code",
   "execution_count": null,
   "metadata": {},
   "outputs": [],
   "source": [
    "#-------------------------------------------------------------------------------------------------\n",
    "# EMAIL WEB SCRAPPER\n",
    "# \n",
    "# Pablo Marchesi\n",
    "# Feb 2023\n",
    "#-------------------------------------------------------------------------------------------------\n",
    "\n",
    "import pandas as pd\n",
    "import requests\n",
    "from bs4 import BeautifulSoup\n",
    "import re\n",
    "\n",
    "xlsx = r'Your_Emails.xlsx'\n",
    "df = pd.read_excel(xlsx)\n",
    "web = df['website'].dropna()\n",
    "email_list = []\n",
    "\n",
    "for i in range(len(web)):\n",
    "    url = web.iloc[i]\n",
    "    try:\n",
    "        # Extraccion del código fuente de la web \n",
    "        response = requests.get(url, timeout=2)\n",
    "        soup = BeautifulSoup(response.content, \"html.parser\")\n",
    "\n",
    "        # Chequea si la pagina tiene pagina de contacto (dara un aviso en caso de que no encuentre el email)\n",
    "        contact_link = soup.find(\"a\", href=re.compile(\"contacto|quienes somos|contactus|quiénes somos|contactanos|contactar|contáctanos|contact us|contact\", re.IGNORECASE))\n",
    "\n",
    "        # Busca los emails en el codigo fuente \n",
    "        email_pattern = r\"\\b[A-Za-z0-9._%+-]+@[A-Za-z0-9.-]+\\.[com|es|net|org|edu|gov|info|biz|io|co|uk|au|ca]{2,}\" \n",
    "        emails = list(set((re.findall(email_pattern, str(soup)))))\n",
    "\n",
    "        # Filtrado para emails muy largos\n",
    "        n = 40\n",
    "        emails = [x for x in emails if len(x) <= n]\n",
    "        email_list.append(emails)\n",
    "\n",
    "        # Si no ha encntrado email pero hay pagina de contacto, buscalo ahi\n",
    "        if(contact_link) and emails == []: \n",
    "            try:\n",
    "                # Busca en la pagina de contacto\n",
    "                contact_url = contact_link[\"href\"]\n",
    "                if not contact_url.startswith('https://') and not contact_url.startswith('http://'): \n",
    "                    contact_url = url + contact_url\n",
    "                contact_response = requests.get(contact_url, timeout=2)\n",
    "                contact_soup = BeautifulSoup(contact_response.content, \"html.parser\")\n",
    "                email_pattern = r\"\\b[A-Za-z0-9._%+-]+@[A-Za-z0-9.-]+\\.[com|es|net|org|edu|gov|info|biz|io|co|uk|au|ca]{2,}\"\n",
    "                emails = list(set((re.findall(email_pattern, str(contact_soup)))))\n",
    "\n",
    "                # Filtrado para emails muy largos\n",
    "                n = 40 \n",
    "                emails = [x for x in emails if len(x) <= n]\n",
    "                email_list[-1] = emails\n",
    "                if email_list[-1] == []: email_list[-1] = ['Posible formulario de contacto']\n",
    "            except: print('Posible form'); email_list[-1] = ['No se puede acceder a la pagina de contacto']\n",
    "        print(f'Loading {round(100*(i/(len(web)-1)),2)}%')\n",
    "        if email_list[-1] == []: email_list[-1] = ['No se ha encontrado el email en la web']\n",
    "    except Exception as e:  email_list.append(['No se puede acceder a la web']); print(f'Error: {e}')\n",
    "\n",
    "# Resultados \n",
    "df_emails = pd.DataFrame({'Emails':email_list, 'Webs': web, 'Has Email':0})\n",
    "\n",
    "# Cuenta los mails obtenidos \n",
    "count = 0\n",
    "for i in range(len(email_list)):\n",
    "    if '@' in email_list[i][0]: count += 1; df_emails['Has Email'][i] = 1\n",
    "emails_found = round(100*(count/len(web)),2)\n",
    "\n",
    "# Display del % de emails y df con la info \n",
    "print(f'Emails found: {emails_found}%')\n"
   ]
  }
 ],
 "metadata": {
  "kernelspec": {
   "display_name": "pyenv",
   "language": "python",
   "name": "python3"
  },
  "language_info": {
   "codemirror_mode": {
    "name": "ipython",
    "version": 3
   },
   "file_extension": ".py",
   "mimetype": "text/x-python",
   "name": "python",
   "nbconvert_exporter": "python",
   "pygments_lexer": "ipython3",
   "version": "3.9.13"
  },
  "orig_nbformat": 4,
  "vscode": {
   "interpreter": {
    "hash": "66ac337a1b1528598da7ef13f44806b7745d666533273d5d8e86f324242f3c2d"
   }
  }
 },
 "nbformat": 4,
 "nbformat_minor": 2
}
